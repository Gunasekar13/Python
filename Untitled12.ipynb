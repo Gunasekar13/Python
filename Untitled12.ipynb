{
  "nbformat": 4,
  "nbformat_minor": 0,
  "metadata": {
    "colab": {
      "provenance": [],
      "authorship_tag": "ABX9TyPOccjEQysTWHVnNKNNNSfp",
      "include_colab_link": true
    },
    "kernelspec": {
      "name": "python3",
      "display_name": "Python 3"
    },
    "language_info": {
      "name": "python"
    }
  },
  "cells": [
    {
      "cell_type": "markdown",
      "metadata": {
        "id": "view-in-github",
        "colab_type": "text"
      },
      "source": [
        "<a href=\"https://colab.research.google.com/github/Gunasekar13/Python/blob/main/Untitled12.ipynb\" target=\"_parent\"><img src=\"https://colab.research.google.com/assets/colab-badge.svg\" alt=\"Open In Colab\"/></a>"
      ]
    },
    {
      "cell_type": "markdown",
      "source": [
        "Return a sum of integer in single digits.\n",
        "n=9167  first sum=23 again sum the result is 5 \n",
        "----\n",
        "return 5\n",
        "\n"
      ],
      "metadata": {
        "id": "GngmQ_p0Q-ZZ"
      }
    },
    {
      "cell_type": "code",
      "execution_count": 1,
      "metadata": {
        "colab": {
          "base_uri": "https://localhost:8080/"
        },
        "id": "8vPSpH3DQ2Mh",
        "outputId": "ed126a83-aa6b-413e-e605-ad0c4ef43c1c"
      },
      "outputs": [
        {
          "output_type": "stream",
          "name": "stdout",
          "text": [
            "23\n",
            "5\n"
          ]
        }
      ],
      "source": [
        "n=9167\n",
        "def sumof(n):\n",
        "    sum=0\n",
        "    while(n!=0):\n",
        "        rem=n%10 \n",
        "        sum+=rem \n",
        "        n=n//10\n",
        "    return sum\n",
        "\n",
        "res=sumof(n)\n",
        "print(res)\n",
        "if (res//10!=0):\n",
        "    print(sumof(res))"
      ]
    },
    {
      "cell_type": "markdown",
      "source": [],
      "metadata": {
        "id": "tf0HCUJeRhR8"
      }
    }
  ]
}