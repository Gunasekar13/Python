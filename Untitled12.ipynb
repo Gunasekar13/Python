{
  "nbformat": 4,
  "nbformat_minor": 0,
  "metadata": {
    "colab": {
      "provenance": [],
      "authorship_tag": "ABX9TyPd73rAp7LdtSR7apO/FIAB",
      "include_colab_link": true
    },
    "kernelspec": {
      "name": "python3",
      "display_name": "Python 3"
    },
    "language_info": {
      "name": "python"
    }
  },
  "cells": [
    {
      "cell_type": "markdown",
      "metadata": {
        "id": "view-in-github",
        "colab_type": "text"
      },
      "source": [
        "<a href=\"https://colab.research.google.com/github/Gunasekar13/Python/blob/main/Untitled12.ipynb\" target=\"_parent\"><img src=\"https://colab.research.google.com/assets/colab-badge.svg\" alt=\"Open In Colab\"/></a>"
      ]
    },
    {
      "cell_type": "markdown",
      "source": [
        "Return a sum of integer in single digits.\n",
        "n=9167  first sum=23 again sum the result is 5 \n",
        "----\n",
        "return 5\n",
        "\n"
      ],
      "metadata": {
        "id": "GngmQ_p0Q-ZZ"
      }
    },
    {
      "cell_type": "code",
      "execution_count": null,
      "metadata": {
        "colab": {
          "base_uri": "https://localhost:8080/"
        },
        "id": "8vPSpH3DQ2Mh",
        "outputId": "ed126a83-aa6b-413e-e605-ad0c4ef43c1c"
      },
      "outputs": [
        {
          "output_type": "stream",
          "name": "stdout",
          "text": [
            "23\n",
            "5\n"
          ]
        }
      ],
      "source": [
        "n=9167\n",
        "def sumof(n):\n",
        "    sum=0\n",
        "    while(n!=0):\n",
        "        rem=n%10 \n",
        "        sum+=rem \n",
        "        n=n//10\n",
        "    return sum\n",
        "\n",
        "res=sumof(n)\n",
        "print(res)\n",
        "if (res//10!=0):\n",
        "    print(sumof(res))"
      ]
    },
    {
      "cell_type": "markdown",
      "source": [
        "print '*' pattern given below\n"
      ],
      "metadata": {
        "id": "tf0HCUJeRhR8"
      }
    },
    {
      "cell_type": "code",
      "source": [
        "n=int(input('Enter the number: '))\n",
        "k=2*n-1\n",
        "for i in range(0,n):\n",
        "    for j in range(i,k):\n",
        "        print(end=' ')\n",
        "    k=k-1\n",
        "    for j in range(0,2*i+1):\n",
        "        print('*',end=' ')\n",
        "    print('\\n')"
      ],
      "metadata": {
        "id": "q1DultlYW-Vg",
        "outputId": "046ed160-06b2-495a-b1da-1637bee8d6af",
        "colab": {
          "base_uri": "https://localhost:8080/"
        }
      },
      "execution_count": 1,
      "outputs": [
        {
          "output_type": "stream",
          "name": "stdout",
          "text": [
            "Enter the number: 5\n",
            "         * \n",
            "\n",
            "       * * * \n",
            "\n",
            "     * * * * * \n",
            "\n",
            "   * * * * * * * \n",
            "\n",
            " * * * * * * * * * \n",
            "\n"
          ]
        }
      ]
    },
    {
      "cell_type": "markdown",
      "source": [],
      "metadata": {
        "id": "k7BEc7rqXNDR"
      }
    },
    {
      "cell_type": "code",
      "source": [
        "n=int(input('Enter the number: '))\n",
        "count=0\n",
        "for i in range(0,2*n):\n",
        "    if i<n:\n",
        "        count+=1\n",
        "    else:\n",
        "        count-=1\n",
        "        \n",
        "    for j in range(0,count):\n",
        "        print('*',end=' ')\n",
        "    print('\\n')"
      ],
      "metadata": {
        "id": "4hZ8ReX4X9BW",
        "outputId": "587d2e50-6a8c-48b7-c452-6f40da73f2f4",
        "colab": {
          "base_uri": "https://localhost:8080/"
        }
      },
      "execution_count": 2,
      "outputs": [
        {
          "output_type": "stream",
          "name": "stdout",
          "text": [
            "Enter the number: 5\n",
            "* \n",
            "\n",
            "* * \n",
            "\n",
            "* * * \n",
            "\n",
            "* * * * \n",
            "\n",
            "* * * * * \n",
            "\n",
            "* * * * \n",
            "\n",
            "* * * \n",
            "\n",
            "* * \n",
            "\n",
            "* \n",
            "\n",
            "\n",
            "\n"
          ]
        }
      ]
    },
    {
      "cell_type": "markdown",
      "source": [
        "💻 Write a function which takes a list of integers as input and informs whether the list is a Fibonacci series or not.\n",
        "\n",
        "\n",
        "*  isFiboSeries(List(1,1,2,3,5,8,13)) = true \n",
        "*  isFiboSeries(List(1,1,2,3,7,9,11)) = false\n",
        "*  isFiboSeries(List(1,3,4,7,11)) = true\n",
        "\n"
      ],
      "metadata": {
        "id": "c5BY2hDtYjdV"
      }
    },
    {
      "cell_type": "code",
      "source": [],
      "metadata": {
        "id": "Zv2fFWNnYB04"
      },
      "execution_count": null,
      "outputs": []
    }
  ]
}