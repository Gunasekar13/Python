{
  "nbformat": 4,
  "nbformat_minor": 0,
  "metadata": {
    "colab": {
      "provenance": [],
      "include_colab_link": true
    },
    "kernelspec": {
      "name": "python3",
      "display_name": "Python 3"
    },
    "language_info": {
      "name": "python"
    }
  },
  "cells": [
    {
      "cell_type": "markdown",
      "metadata": {
        "id": "view-in-github",
        "colab_type": "text"
      },
      "source": [
        "<a href=\"https://colab.research.google.com/github/Gunasekar13/Python/blob/main/Untitled5.ipynb\" target=\"_parent\"><img src=\"https://colab.research.google.com/assets/colab-badge.svg\" alt=\"Open In Colab\"/></a>"
      ]
    },
    {
      "cell_type": "markdown",
      "source": [
        "**Python interview questions**"
      ],
      "metadata": {
        "id": "tC6N4LwtGhKO"
      }
    },
    {
      "cell_type": "markdown",
      "source": [
        "**Find the unique number in the array**\n",
        "\n",
        "\n",
        "1.  *** Input*** orginal_array=[1,1,1,2,2,3,4,4,5]\n",
        "2.  *** Output*** unique_array=[1,2,3,4,5]\n",
        "\n"
      ],
      "metadata": {
        "id": "ZhFQab_7a3hL"
      }
    },
    {
      "cell_type": "code",
      "source": [
        "orginal_array=[1,1,1,2,2,3,4,4,5]\n",
        "unique_array=[]\n",
        "for i in orginal_array:\n",
        "  if i in unique_array:\n",
        "    continue\n",
        "  else:\n",
        "    unique_array.append(i)\n",
        "print(unique_array)"
      ],
      "metadata": {
        "id": "xWRFriNzd2rz",
        "colab": {
          "base_uri": "https://localhost:8080/"
        },
        "outputId": "c9088efa-b025-4ff2-de4d-a02fb28a80fe"
      },
      "execution_count": null,
      "outputs": [
        {
          "output_type": "stream",
          "name": "stdout",
          "text": [
            "[1, 2, 3, 4, 5]\n"
          ]
        }
      ]
    },
    {
      "cell_type": "markdown",
      "source": [
        "**Find the string is Anagram or not**"
      ],
      "metadata": {
        "id": "23km5iAuIQBk"
      }
    },
    {
      "cell_type": "markdown",
      "source": [
        "Input: The quick brown fox jumps over the lazy dog\n",
        "2.   Output: yes"
      ],
      "metadata": {
        "id": "FrcE-tunI_LI"
      }
    },
    {
      "cell_type": "code",
      "source": [
        "str1='The quick brown fox jumps over the lazy dog'\n",
        "str1=str1.lower()\n",
        "temp='abcdefghijklmnopqrstuvwxyz'\n",
        "b=[]\n",
        "for i in temp:\n",
        "    if i in str1:\n",
        "        continue\n",
        "    else:\n",
        "        b.append(i)\n",
        "        \n",
        "if b!=[]:\n",
        "    print('No-The string is not panagram')\n",
        "else:\n",
        "    print('Yes-The string is panagram')"
      ],
      "metadata": {
        "id": "xrjkKXgcd2dx",
        "colab": {
          "base_uri": "https://localhost:8080/"
        },
        "outputId": "b3764a95-289f-45c2-cab0-ad3bbc38c0e0"
      },
      "execution_count": null,
      "outputs": [
        {
          "output_type": "stream",
          "name": "stdout",
          "text": [
            "Yes-The string is panagram\n"
          ]
        }
      ]
    },
    {
      "cell_type": "markdown",
      "source": [
        "Write a function takes a two-word string and returns True if both words begin with same letter\n",
        "\n",
        "\n",
        "*  animal_crackers('Crazy Chocolate') --> True\n",
        "*  animal_crackers('Lazy Dog') --> False\n",
        "\n"
      ],
      "metadata": {
        "id": "whL41zddPb11"
      }
    },
    {
      "cell_type": "code",
      "source": [
        "animal_crackers='Lazy Dog'\n",
        "list1=list(animal_crackers.split(\" \")) #string to list\n",
        "\n",
        "str1=list1[0]\n",
        "str2=list1[1]\n",
        "\n",
        "if (str1[0:1]==str2[0:1]): #string slice\n",
        "    print('Yes')\n",
        "else:\n",
        "    print('No')"
      ],
      "metadata": {
        "id": "sEbXhk2NeQYQ",
        "colab": {
          "base_uri": "https://localhost:8080/"
        },
        "outputId": "0aaab75e-2a1c-48b8-9891-8f8aa3a84efe"
      },
      "execution_count": null,
      "outputs": [
        {
          "output_type": "stream",
          "name": "stdout",
          "text": [
            "No\n"
          ]
        }
      ]
    },
    {
      "cell_type": "markdown",
      "source": [
        "Define a function called myfunc that takes in a string,\n",
        "and returns a matching string where every even letter is uppercase, and every odd letter is lowercase. \n",
        "Desired output:\n",
        "myfunc('aNiMaL')-->True "
      ],
      "metadata": {
        "id": "kYPcMpUHY3Yc"
      }
    },
    {
      "cell_type": "code",
      "source": [
        "str1='aNiMaL'\n",
        "\n",
        "def myfunc(str1):\n",
        "    even_str=''\n",
        "    odd_str=''\n",
        "    for i in range(0,len(str1)): #seperate odd and even number string\n",
        "        if i%2!=0:\n",
        "            even_str+=str1[i]\n",
        "        else:\n",
        "            odd_str+=str1[i] \n",
        "            \n",
        "    if (even_str.isupper()) and(odd_str.islower()) :     # check the conditions\n",
        "        print(\"True\")\n",
        "    else:\n",
        "        print(\"flase\")\n",
        "myfunc(str1)"
      ],
      "metadata": {
        "id": "CaFTkg2aeMel",
        "outputId": "cd019eae-281f-4cd0-9713-6d082bc82ff1",
        "colab": {
          "base_uri": "https://localhost:8080/"
        }
      },
      "execution_count": null,
      "outputs": [
        {
          "output_type": "stream",
          "name": "stdout",
          "text": [
            "True\n"
          ]
        }
      ]
    },
    {
      "cell_type": "markdown",
      "source": [
        "**Sample String : 'Hello Mr. Rogers, how are you this fine Tuesday?'**\n",
        "\n",
        "Expected Output : \n",
        "* No. of Upper case characters : 4\n",
        "* No. of Lower case Characters : 33\n",
        "\n"
      ],
      "metadata": {
        "id": "cw-k7cA9TPUq"
      }
    },
    {
      "cell_type": "code",
      "source": [
        "str1='Hello Mr. Rogers, how are you this fine Tuesday?'\n",
        "count=0\n",
        "count1=0\n",
        "count2=0 \n",
        "n=len(str1)\n",
        "for i in range(0,n):\n",
        "    if str1[i].isupper():\n",
        "        count1+=1 \n",
        "    elif str1[i].islower():\n",
        "        count2+=1 \n",
        "    else:\n",
        "        count+=1 \n",
        "print(\"the no of Uppercase: \",count1)\n",
        "print('the no of lowercase: ',count2)\n",
        "print('The no of simples: ',count)"
      ],
      "metadata": {
        "id": "4oZkdnTOTYKb",
        "outputId": "e49b60a6-4edf-4e91-fbeb-011d4ab29ce9",
        "colab": {
          "base_uri": "https://localhost:8080/"
        }
      },
      "execution_count": null,
      "outputs": [
        {
          "output_type": "stream",
          "name": "stdout",
          "text": [
            "the no of Uppercase:  4\n",
            "the no of lowercase:  33\n",
            "The no of simples:  11\n"
          ]
        }
      ]
    },
    {
      "cell_type": "markdown",
      "source": [
        "**Write a Python function that checks whether a word or phrase is palindrome or not.**\n",
        "\n",
        "Example of Palindrome:\n",
        "* Hannah\n",
        "* Anna\n",
        "\n"
      ],
      "metadata": {
        "id": "kOiXuTUhaRiQ"
      }
    },
    {
      "cell_type": "code",
      "source": [
        "str1=str(input('Enter the String : '))\n",
        "#convert the all char is lower/upper\n",
        "s=str1.lower() \n",
        "#reversed the string and stored\n",
        "r=s[::-1]   \n",
        "print('The reversed str: ',r)\n",
        "#check is str,reversed str are same\n",
        "if r==s:    \n",
        "    print('Yes the str is palindrome')\n",
        "else:\n",
        "    print('No the string is not a palindrome')"
      ],
      "metadata": {
        "id": "wqiND4NOaRGj",
        "outputId": "e42eb4f5-183f-4778-e0bd-d9fd8c992f6f",
        "colab": {
          "base_uri": "https://localhost:8080/"
        }
      },
      "execution_count": null,
      "outputs": [
        {
          "output_type": "stream",
          "name": "stdout",
          "text": [
            "Enter the String : Anna\n",
            "The reversed str:  anna\n",
            "Yes the str is palindrome\n"
          ]
        }
      ]
    },
    {
      "cell_type": "markdown",
      "source": [
        "**Write a Python function to multiply all the numbers in a list**.\n",
        "\n",
        "* Sample List : [1, 2, 3, -4]\n",
        "* Expected Output : -24\n",
        "\n"
      ],
      "metadata": {
        "id": "F-wwhRDrcUOU"
      }
    },
    {
      "cell_type": "code",
      "source": [
        "# get the list value from user\n",
        "Sample_List=list(map(int,input('Enter the list: ').strip().split()))\n",
        "\n",
        "def multiple(a):\n",
        "    res=1\n",
        "    n=len(a)\n",
        "    for i in a:\n",
        "        res=res*i \n",
        "    return res\n",
        "\n",
        "print(multiple(Sample_List))"
      ],
      "metadata": {
        "id": "XQg8PMNKkAVZ",
        "outputId": "bebb9fa8-7859-4ae6-94b4-1d491ebb4bef",
        "colab": {
          "base_uri": "https://localhost:8080/"
        }
      },
      "execution_count": null,
      "outputs": [
        {
          "output_type": "stream",
          "name": "stdout",
          "text": [
            "Enter the list: 1 2 3 -4\n",
            "-24\n"
          ]
        }
      ]
    },
    {
      "cell_type": "markdown",
      "source": [
        "**Given a string, return a string where for every character in the original there are three characters**\n",
        "\n",
        "\n",
        "*   paper_doll('Hello') --> 'HHHeeellllllooo'\n",
        "\n",
        "\n"
      ],
      "metadata": {
        "id": "l0gy9mLYRxq2"
      }
    },
    {
      "cell_type": "code",
      "source": [
        "str1=str(input('Enter the str input: '))\n",
        "def upgrade(str1):\n",
        "    New=''\n",
        "    for i in str1:\n",
        "        New+=i*3\n",
        "    print('The New string is : ',New)\n",
        "\n",
        "upgrade(str1)"
      ],
      "metadata": {
        "id": "eDpIrwazRxIA",
        "outputId": "60d31cd3-ae22-477e-f8ed-f557fc1f3a7d",
        "colab": {
          "base_uri": "https://localhost:8080/"
        }
      },
      "execution_count": null,
      "outputs": [
        {
          "output_type": "stream",
          "name": "stdout",
          "text": [
            "Enter the str input: Hello\n",
            "The New string is :  HHHeeellllllooo\n"
          ]
        }
      ]
    },
    {
      "cell_type": "markdown",
      "source": [
        " **Write a code to check whether a year is leap year or not.**\n",
        "\n",
        "\n",
        "* is_leap(1994)-->Leap year\n",
        "* is_leap(2100)-->not a Leap year \n",
        "*is_leap(2000)—>Leap year"
      ],
      "metadata": {
        "id": "sAg5Y0DKSkmU"
      }
    },
    {
      "cell_type": "code",
      "source": [
        "\n",
        "def is_leap(y):\n",
        "    if y%4==0 and (y%100!=0 or y%400==0):\n",
        "        print('Leap Year')\n",
        "        \n",
        "    else:\n",
        "        print('No')\n",
        "    \n",
        "is_leap(1994)\n",
        "is_leap(2100)\n",
        "is_leap(2000)"
      ],
      "metadata": {
        "id": "8p4EOSyoTN5B",
        "outputId": "aae8a0e2-a93f-4e5b-a62f-cd4472101ef2",
        "colab": {
          "base_uri": "https://localhost:8080/"
        }
      },
      "execution_count": null,
      "outputs": [
        {
          "output_type": "stream",
          "name": "stdout",
          "text": [
            "No\n",
            "No\n",
            "Leap Year\n"
          ]
        }
      ]
    },
    {
      "cell_type": "markdown",
      "source": [
        "Day : 13\n",
        "\n",
        "---\n",
        "\n",
        "\n",
        "**Python coding question:\n",
        "Write a function that capitalizes the first and fourth letters of a name**\n",
        "\n",
        "\n",
        "*TC 1:capitalize(\"chandrali\")\n",
        "   Output is : 'ChaNdrali'\n",
        "   \n",
        "*TC 2:capitalize(\"roy\")\n",
        "  OUtput is : 'Name is too short!'\n",
        "\n"
      ],
      "metadata": {
        "id": "mNhFUM_3EH0n"
      }
    },
    {
      "cell_type": "code",
      "source": [
        "str1=str(input('Enter the string : '))\n",
        "\n",
        "def to_upper(s):\n",
        "    n=len(s)  # string length\n",
        "    \n",
        "    new_str=''\n",
        "    \n",
        "    if n>4: #check string length\n",
        "        for i in range(0,n):\n",
        "            if i==0 or i==3: #convert the upper and store\n",
        "                new_str+=s[i].upper()\n",
        "            else:\n",
        "                new_str+=s[i]\n",
        "            \n",
        "        print(new_str)\n",
        "    else:\n",
        "        print('The string too short!')\n",
        "\n",
        "to_upper(str1)"
      ],
      "metadata": {
        "id": "TGudDC_GEHbr",
        "outputId": "12603d0b-c3a7-461e-d001-e4071b006dc5",
        "colab": {
          "base_uri": "https://localhost:8080/"
        }
      },
      "execution_count": null,
      "outputs": [
        {
          "output_type": "stream",
          "name": "stdout",
          "text": [
            "Enter the string : chandrali\n",
            "ChaNdrali\n"
          ]
        }
      ]
    },
    {
      "cell_type": "markdown",
      "source": [
        "Day  : 14\n",
        "**Print the list of integers from through as a string, without spaces**\n",
        "\n",
        "\n",
        "* **Sample Input:**\n",
        "3\n",
        "* **Sample Output:**\n",
        "123\n",
        "\n"
      ],
      "metadata": {
        "id": "s2KjA_71FE5a"
      }
    },
    {
      "cell_type": "code",
      "source": [
        "n=int(input('Enter the integer: '))\n",
        "a=[]\n",
        "for i in range(1,n+1):\n",
        "    #single integer to single str\n",
        "    s=str(i)\n",
        "    #string stored in list\n",
        "    a.append(s)\n",
        "\n",
        "#list to whole string\n",
        "print(''.join(a))"
      ],
      "metadata": {
        "id": "wQFoLNjtSI7X",
        "outputId": "310d5168-9d5c-4f00-c309-4330a4a371bd",
        "colab": {
          "base_uri": "https://localhost:8080/"
        }
      },
      "execution_count": 1,
      "outputs": [
        {
          "output_type": "stream",
          "name": "stdout",
          "text": [
            "Enter the integer: 3\n",
            "123\n"
          ]
        }
      ]
    },
    {
      "cell_type": "markdown",
      "source": [
        "Day : 15\n",
        "**Print only the words that start with \"s\" in a sentence**\n",
        "\n",
        "\n",
        "* **Input:**\n",
        "Salad is healthy snack\n",
        "* **Output:**\n",
        "Salad\n",
        "snack\n",
        "\n"
      ],
      "metadata": {
        "id": "udMl36ZvSJiE"
      }
    },
    {
      "cell_type": "code",
      "source": [
        "str1=str(input('Enter the String: '))\n",
        "# convert string into list\n",
        "mylist=list(str1.split(' '))\n",
        "print(mylist)\n",
        "\n",
        "for word in mylist:\n",
        "    #convert All string to lowercase\n",
        "    ele=word.lower()\n",
        "    if ele[0:1]=='s':\n",
        "        print(word)"
      ],
      "metadata": {
        "id": "H1_Jj3PSSpSs",
        "outputId": "b27eecc0-c2bb-4b45-f54e-99849c91c236",
        "colab": {
          "base_uri": "https://localhost:8080/"
        }
      },
      "execution_count": 2,
      "outputs": [
        {
          "output_type": "stream",
          "name": "stdout",
          "text": [
            "Enter the String: Salad is healthy snack\n",
            "['Salad', 'is', 'healthy', 'snack']\n",
            "Salad\n",
            "snack\n"
          ]
        }
      ]
    }
  ]
}