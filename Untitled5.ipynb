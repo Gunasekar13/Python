{
  "nbformat": 4,
  "nbformat_minor": 0,
  "metadata": {
    "colab": {
      "provenance": [],
      "authorship_tag": "ABX9TyN/a1DW1/nR3YK0OK64i603",
      "include_colab_link": true
    },
    "kernelspec": {
      "name": "python3",
      "display_name": "Python 3"
    },
    "language_info": {
      "name": "python"
    }
  },
  "cells": [
    {
      "cell_type": "markdown",
      "metadata": {
        "id": "view-in-github",
        "colab_type": "text"
      },
      "source": [
        "<a href=\"https://colab.research.google.com/github/Gunasekar13/Python/blob/main/Untitled5.ipynb\" target=\"_parent\"><img src=\"https://colab.research.google.com/assets/colab-badge.svg\" alt=\"Open In Colab\"/></a>"
      ]
    },
    {
      "cell_type": "markdown",
      "source": [
        "**Python interview questions**"
      ],
      "metadata": {
        "id": "tC6N4LwtGhKO"
      }
    },
    {
      "cell_type": "markdown",
      "source": [
        "**Find the unique number in the array**\n",
        "\n",
        "\n",
        "1.  *** Input*** orginal_array=[1,1,1,2,2,3,4,4,5]\n",
        "2.  *** Output*** unique_array=[1,2,3,4,5]\n",
        "\n"
      ],
      "metadata": {
        "id": "ZhFQab_7a3hL"
      }
    },
    {
      "cell_type": "code",
      "source": [
        "orginal_array=[1,1,1,2,2,3,4,4,5]\n",
        "unique_array=[]\n",
        "for i in orginal_array:\n",
        "  if i in unique_array:\n",
        "    continue\n",
        "  else:\n",
        "    unique_array.append(i)\n",
        "print(unique_array)"
      ],
      "metadata": {
        "id": "xWRFriNzd2rz",
        "colab": {
          "base_uri": "https://localhost:8080/"
        },
        "outputId": "c9088efa-b025-4ff2-de4d-a02fb28a80fe"
      },
      "execution_count": 3,
      "outputs": [
        {
          "output_type": "stream",
          "name": "stdout",
          "text": [
            "[1, 2, 3, 4, 5]\n"
          ]
        }
      ]
    },
    {
      "cell_type": "markdown",
      "source": [
        "**Find the string is Anagram or not**"
      ],
      "metadata": {
        "id": "23km5iAuIQBk"
      }
    },
    {
      "cell_type": "markdown",
      "source": [
        "Input: The quick brown fox jumps over the lazy dog\n",
        "2.   Output: yes"
      ],
      "metadata": {
        "id": "FrcE-tunI_LI"
      }
    },
    {
      "cell_type": "code",
      "source": [
        "str1='The quick brown fox jumps over the lazy dog'\n",
        "str1=str1.lower()\n",
        "temp='abcdefghijklmnopqrstuvwxyz'\n",
        "b=[]\n",
        "for i in temp:\n",
        "    if i in str1:\n",
        "        continue\n",
        "    else:\n",
        "        b.append(i)\n",
        "        \n",
        "if b!=[]:\n",
        "    print('No-The string is not panagram')\n",
        "else:\n",
        "    print('Yes-The string is panagram')"
      ],
      "metadata": {
        "id": "xrjkKXgcd2dx",
        "colab": {
          "base_uri": "https://localhost:8080/"
        },
        "outputId": "b3764a95-289f-45c2-cab0-ad3bbc38c0e0"
      },
      "execution_count": 8,
      "outputs": [
        {
          "output_type": "stream",
          "name": "stdout",
          "text": [
            "Yes-The string is panagram\n"
          ]
        }
      ]
    },
    {
      "cell_type": "markdown",
      "source": [
        "Write a function takes a two-word string and returns True if both words begin with same letter\n",
        "\n",
        "\n",
        "*  animal_crackers('Crazy Chocolate') --> True\n",
        "*  animal_crackers('Lazy Dog') --> False\n",
        "\n"
      ],
      "metadata": {
        "id": "whL41zddPb11"
      }
    },
    {
      "cell_type": "code",
      "source": [
        "animal_crackers='Lazy Dog'\n",
        "list1=list(animal_crackers.split(\" \")) #string to list\n",
        "\n",
        "str1=list1[0]\n",
        "str2=list1[1]\n",
        "\n",
        "if (str1[0:1]==str2[0:1]): #string slice\n",
        "    print('Yes')\n",
        "else:\n",
        "    print('No')"
      ],
      "metadata": {
        "id": "sEbXhk2NeQYQ",
        "colab": {
          "base_uri": "https://localhost:8080/"
        },
        "outputId": "0aaab75e-2a1c-48b8-9891-8f8aa3a84efe"
      },
      "execution_count": 9,
      "outputs": [
        {
          "output_type": "stream",
          "name": "stdout",
          "text": [
            "No\n"
          ]
        }
      ]
    },
    {
      "cell_type": "code",
      "source": [],
      "metadata": {
        "id": "CaFTkg2aeMel"
      },
      "execution_count": null,
      "outputs": []
    }
  ]
}