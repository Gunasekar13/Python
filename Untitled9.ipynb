{
  "nbformat": 4,
  "nbformat_minor": 0,
  "metadata": {
    "colab": {
      "provenance": [],
      "authorship_tag": "ABX9TyN7klbEx2kHujUQ6UOJ78O6",
      "include_colab_link": true
    },
    "kernelspec": {
      "name": "python3",
      "display_name": "Python 3"
    },
    "language_info": {
      "name": "python"
    }
  },
  "cells": [
    {
      "cell_type": "markdown",
      "metadata": {
        "id": "view-in-github",
        "colab_type": "text"
      },
      "source": [
        "<a href=\"https://colab.research.google.com/github/Gunasekar13/Python/blob/main/Untitled9.ipynb\" target=\"_parent\"><img src=\"https://colab.research.google.com/assets/colab-badge.svg\" alt=\"Open In Colab\"/></a>"
      ]
    },
    {
      "cell_type": "markdown",
      "source": [
        "**DAY 16 :**\n",
        "Python coding question:\n",
        "\n",
        "---\n",
        "Write a program that prints the integers from 1 to 100. \n",
        "\n",
        "\n",
        "* But for multiples of three print **\"Fizz\"** instead of the number,\n",
        "* and for the multiples of five print **\"Buzz\"**.\n",
        "* For numbers which are multiples of both three and five print **\"FizzBuzz\"**."
      ],
      "metadata": {
        "id": "ymrXkY6sxVoF"
      }
    },
    {
      "cell_type": "code",
      "execution_count": 1,
      "metadata": {
        "colab": {
          "base_uri": "https://localhost:8080/"
        },
        "id": "yN1sAgTWxURK",
        "outputId": "1d67d878-80d1-4826-c681-2bfe6dc80b02"
      },
      "outputs": [
        {
          "output_type": "stream",
          "name": "stdout",
          "text": [
            "3 : Fizz\n",
            "5 : Buzz\n",
            "6 : Fizz\n",
            "9 : Fizz\n",
            "10 : Buzz\n",
            "12 : Fizz\n",
            "15 : FizzBuzz\n",
            "18 : Fizz\n",
            "20 : Buzz\n",
            "21 : Fizz\n",
            "24 : Fizz\n",
            "25 : Buzz\n",
            "27 : Fizz\n",
            "30 : FizzBuzz\n",
            "33 : Fizz\n",
            "35 : Buzz\n",
            "36 : Fizz\n",
            "39 : Fizz\n",
            "40 : Buzz\n",
            "42 : Fizz\n",
            "45 : FizzBuzz\n",
            "48 : Fizz\n"
          ]
        }
      ],
      "source": [
        "for i in range(1,50):\n",
        "    if (i%3==0 and i%5==0):\n",
        "        print(i,\": FizzBuzz\")\n",
        "    elif i%5==0:\n",
        "        print(i,\": Buzz\")\n",
        "    elif i%3==0:\n",
        "        print(i,\": Fizz\")\n",
        "    else:\n",
        "        continue"
      ]
    },
    {
      "cell_type": "markdown",
      "source": [],
      "metadata": {
        "id": "SXeDgfE8y0T3"
      }
    }
  ]
}