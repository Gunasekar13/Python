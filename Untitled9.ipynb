{
  "nbformat": 4,
  "nbformat_minor": 0,
  "metadata": {
    "colab": {
      "provenance": [],
      "authorship_tag": "ABX9TyNaqUAhIr45AFxAEMJfqZ27",
      "include_colab_link": true
    },
    "kernelspec": {
      "name": "python3",
      "display_name": "Python 3"
    },
    "language_info": {
      "name": "python"
    }
  },
  "cells": [
    {
      "cell_type": "markdown",
      "metadata": {
        "id": "view-in-github",
        "colab_type": "text"
      },
      "source": [
        "<a href=\"https://colab.research.google.com/github/Gunasekar13/Python/blob/main/Untitled9.ipynb\" target=\"_parent\"><img src=\"https://colab.research.google.com/assets/colab-badge.svg\" alt=\"Open In Colab\"/></a>"
      ]
    },
    {
      "cell_type": "markdown",
      "source": [
        "**DAY 16 :**\n",
        "Python coding question:\n",
        "\n",
        "---\n",
        "Write a program that prints the integers from 1 to 100. \n",
        "\n",
        "\n",
        "* But for multiples of three print **\"Fizz\"** instead of the number,\n",
        "* and for the multiples of five print **\"Buzz\"**.\n",
        "* For numbers which are multiples of both three and five print **\"FizzBuzz\"**."
      ],
      "metadata": {
        "id": "ymrXkY6sxVoF"
      }
    },
    {
      "cell_type": "code",
      "execution_count": null,
      "metadata": {
        "colab": {
          "base_uri": "https://localhost:8080/"
        },
        "id": "yN1sAgTWxURK",
        "outputId": "1d67d878-80d1-4826-c681-2bfe6dc80b02"
      },
      "outputs": [
        {
          "output_type": "stream",
          "name": "stdout",
          "text": [
            "3 : Fizz\n",
            "5 : Buzz\n",
            "6 : Fizz\n",
            "9 : Fizz\n",
            "10 : Buzz\n",
            "12 : Fizz\n",
            "15 : FizzBuzz\n",
            "18 : Fizz\n",
            "20 : Buzz\n",
            "21 : Fizz\n",
            "24 : Fizz\n",
            "25 : Buzz\n",
            "27 : Fizz\n",
            "30 : FizzBuzz\n",
            "33 : Fizz\n",
            "35 : Buzz\n",
            "36 : Fizz\n",
            "39 : Fizz\n",
            "40 : Buzz\n",
            "42 : Fizz\n",
            "45 : FizzBuzz\n",
            "48 : Fizz\n"
          ]
        }
      ],
      "source": [
        "for i in range(1,50):\n",
        "    if (i%3==0 and i%5==0):\n",
        "        print(i,\": FizzBuzz\")\n",
        "    elif i%5==0:\n",
        "        print(i,\": Buzz\")\n",
        "    elif i%3==0:\n",
        "        print(i,\": Fizz\")\n",
        "    else:\n",
        "        continue"
      ]
    },
    {
      "cell_type": "markdown",
      "source": [
        "Day 19:\n",
        "----------\n",
        "BLACKJACK: Given three integers between 1 and 11,\n",
        "if their sum is less than or equal to 21, return their sum. \n",
        "If their sum exceeds 21 and there's an eleven, reduce the total sum by 10. \n",
        "Finally, if the sum (even after adjustment) exceeds 21, return 'BUST'\n",
        "\n",
        "*  blackjack(5,6,7) --> 18\n",
        "*  blackjack(9,9,9) --> 'BUST'\n",
        "*  blackjack(9,9,11) --> 19\n",
        "\n"
      ],
      "metadata": {
        "id": "SXeDgfE8y0T3"
      }
    },
    {
      "cell_type": "code",
      "source": [
        "def blackjack(a,b,c):\n",
        "    sum=a+b+c \n",
        "    if ((sum>=21)and(a==11 or b==11 or c==11)): #sum excituing 21 and any one is 11\n",
        "        print(sum-10)\n",
        "    elif sum<=21:                               #sun less than equal to 21\n",
        "        print(sum)\n",
        "    else:\n",
        "        print('BUST')\n",
        "\n",
        "blackjack(5,6,7) \n",
        "blackjack(9,9,9) \n",
        "blackjack(9,9,11) "
      ],
      "metadata": {
        "id": "uJBN9xTXT_n-",
        "outputId": "8d1a3ea3-2b7c-4b31-b7ce-0217adffb90d",
        "colab": {
          "base_uri": "https://localhost:8080/"
        }
      },
      "execution_count": null,
      "outputs": [
        {
          "output_type": "stream",
          "name": "stdout",
          "text": [
            "18\n",
            "BUST\n",
            "19\n"
          ]
        }
      ]
    },
    {
      "cell_type": "markdown",
      "source": [
        "###day 20:\n",
        "-------\n",
        "Write a function in Python that accepts a credit card number. \n",
        "It should return a string where all the characters are hidden with an asterisk except the last four. \n",
        "For example, if the function gets sent \"123456734567\", then it should return \"########4567\"."
      ],
      "metadata": {
        "id": "C0CA2ZUbprIC"
      }
    },
    {
      "cell_type": "code",
      "source": [
        "n=int(input('Enter the card number:'))\n",
        "s=str(n)\n",
        "l=len(s)\n",
        "ans=[]\n",
        "for i in range(0,l-4):\n",
        "    ans.append('#')\n",
        "#last 4 to last :\n",
        "for i in range(l-4,l):\n",
        "    ans.append(s[i])\n",
        "#join the str\n",
        "print(''.join(ans))"
      ],
      "metadata": {
        "id": "Al1lFvaIp1nU",
        "outputId": "ae739fd9-7cc3-4f82-e4a7-d59e91d29738",
        "colab": {
          "base_uri": "https://localhost:8080/"
        }
      },
      "execution_count": 1,
      "outputs": [
        {
          "output_type": "stream",
          "name": "stdout",
          "text": [
            "Enter the card number:123456734567\n",
            "########4567\n"
          ]
        }
      ]
    },
    {
      "cell_type": "code",
      "source": [],
      "metadata": {
        "id": "OJMHTseLp6wz"
      },
      "execution_count": null,
      "outputs": []
    }
  ]
}